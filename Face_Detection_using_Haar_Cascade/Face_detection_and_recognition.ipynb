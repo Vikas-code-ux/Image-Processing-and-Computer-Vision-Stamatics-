{
 "cells": [
  {
   "cell_type": "code",
   "execution_count": 8,
   "id": "1f799212",
   "metadata": {},
   "outputs": [],
   "source": [
    "#pylint:disable=no-member\n",
    "import numpy as np\n",
    "import cv2 as cv"
   ]
  },
  {
   "cell_type": "code",
   "execution_count": 9,
   "id": "251007c4",
   "metadata": {},
   "outputs": [],
   "source": [
    "haar_cascade = cv.CascadeClassifier('haar_face.xml')\n",
    "\n",
    "people = ['Ben Afflek', 'Elton John', 'Jerry Seinfield', 'Madonna', 'Mindy Kaling']\n",
    "# features = np.load('features.npy', allow_pickle=True)\n",
    "# labels = np.load('labels.npy')\n",
    "\n",
    "face_recognizer = cv.face.LBPHFaceRecognizer_create()\n",
    "face_recognizer.read('face_trained.yml')"
   ]
  },
  {
   "cell_type": "code",
   "execution_count": 13,
   "id": "76fe78ac",
   "metadata": {},
   "outputs": [],
   "source": [
    "# Recognize the face in the image\n",
    "def face_recog(frame):\n",
    "    \n",
    "    gray = cv.cvtColor(frame, cv.COLOR_BGR2GRAY)\n",
    "    # cv.imshow('Person', gray)\n",
    "    \n",
    "    faces_rect = haar_cascade.detectMultiScale(gray, 1.1, 4)\n",
    "\n",
    "    for (x,y,w,h) in faces_rect:\n",
    "        faces_roi = gray[y:y+h,x:x+w]\n",
    "\n",
    "        label, confidence = face_recognizer.predict(faces_roi)\n",
    "        if confidence>90:\n",
    "            print(f'Label = {people[label]} with a confidence of {confidence}')\n",
    "\n",
    "            cv.putText(frame, str(people[label]), (30,250), cv.FONT_HERSHEY_COMPLEX, 1.0, (0,0,255), thickness=2)\n",
    "        else:\n",
    "            cv.putText(frame, str(\"Vikas Varshney\"), (30,250), cv.FONT_HERSHEY_COMPLEX, 1.0, (0,0,255), thickness=2)\n",
    "        cv.rectangle(frame, (x,y), (x+w,y+h), (0,0,255), thickness=2)\n",
    "    \n",
    "    return frame"
   ]
  },
  {
   "cell_type": "code",
   "execution_count": 14,
   "id": "e743def1",
   "metadata": {},
   "outputs": [
    {
     "name": "stdout",
     "output_type": "stream",
     "text": [
      "Label = Jerry Seinfield with a confidence of 129.73603670848192\n"
     ]
    }
   ],
   "source": [
    "img = cv.imread('Resources/Faces/val/elton_john/2.jpg')\n",
    "if(img is not None):\n",
    "    cv.imshow('Person Image',img)\n",
    "else:\n",
    "    print(\"-1\")\n",
    "\n",
    "cv.imshow('Detected Face', face_recog(img))\n",
    "\n",
    "cv.waitKey(0)\n",
    "cv.destroyAllWindows()"
   ]
  },
  {
   "cell_type": "code",
   "execution_count": 15,
   "id": "05734124",
   "metadata": {},
   "outputs": [
    {
     "name": "stdout",
     "output_type": "stream",
     "text": [
      "Label = Elton John with a confidence of 93.51860939008516\n",
      "Label = Jerry Seinfield with a confidence of 90.89481067188912\n"
     ]
    }
   ],
   "source": [
    "cap = cv.VideoCapture(0)\n",
    "\n",
    "while True:\n",
    "    ret, frame = cap.read()\n",
    "#     if(frame is not None):\n",
    "#         cv.imshow('Person Image',frame)\n",
    "#     else:\n",
    "#         print(\"-1\")\n",
    "    cv.imshow('Our Face Extractor', face_recog(frame))\n",
    "    if cv.waitKey(1) == 13: #13 is the Enter Key\n",
    "        break\n",
    "        \n",
    "cap.release()\n",
    "cv.destroyAllWindows()  "
   ]
  },
  {
   "cell_type": "code",
   "execution_count": null,
   "id": "cb066660",
   "metadata": {},
   "outputs": [],
   "source": []
  }
 ],
 "metadata": {
  "kernelspec": {
   "display_name": "Python 3 (ipykernel)",
   "language": "python",
   "name": "python3"
  },
  "language_info": {
   "codemirror_mode": {
    "name": "ipython",
    "version": 3
   },
   "file_extension": ".py",
   "mimetype": "text/x-python",
   "name": "python",
   "nbconvert_exporter": "python",
   "pygments_lexer": "ipython3",
   "version": "3.11.3"
  }
 },
 "nbformat": 4,
 "nbformat_minor": 5
}
