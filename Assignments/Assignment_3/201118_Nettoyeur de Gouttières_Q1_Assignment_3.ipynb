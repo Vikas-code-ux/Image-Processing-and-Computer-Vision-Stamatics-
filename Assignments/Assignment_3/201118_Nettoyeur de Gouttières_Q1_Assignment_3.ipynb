{
 "cells": [
  {
   "cell_type": "code",
   "execution_count": 3,
   "id": "4958083c",
   "metadata": {},
   "outputs": [],
   "source": [
    "import numpy as np\n",
    "import cv2 as cv"
   ]
  },
  {
   "cell_type": "code",
   "execution_count": 5,
   "id": "098354e0",
   "metadata": {},
   "outputs": [
    {
     "name": "stdout",
     "output_type": "stream",
     "text": [
      "1\n",
      "Image written to file-system :  True\n"
     ]
    }
   ],
   "source": [
    "n=str(input())     # Write the number between 1 and 3(both including)\n",
    "image = cv.imread(\"./Assignment_3_images/gutters{}.JPG\".format(n))\n",
    "img = image.copy()\n",
    "cv.imshow('Original', img)\n",
    "def dilate(d_img):\n",
    "    dilated= np.zeros((d_img.shape), dtype=np.uint8)\n",
    "    kernal= np.array([[0,1,0], [1,1,1],[0,1,0]])\n",
    "    for i in range(1, d_img.shape[0]-1):\n",
    "        for j in range(1,d_img.shape[1]-1):\n",
    "            v_t= d_img[i-1:i+1+1, j-1:j+1+1]\n",
    "            product= v_t*kernal\n",
    "            dilated[i,j]= np.max(product)\n",
    "    return dilated\n",
    "\n",
    "rgb_planes = cv.split(image)\n",
    "result_planes = []\n",
    "for plane in rgb_planes:\n",
    "    dilated_img = dilate(plane)\n",
    "    bg_img = cv.medianBlur(dilated_img, 51)\n",
    "    diff_img = 255 - cv.absdiff(plane, bg_img)\n",
    "    norm_img = cv.normalize(diff_img,None, alpha=0, beta=255, norm_type=cv.NORM_MINMAX, dtype=cv.CV_8UC1)\n",
    "    result_planes.append(diff_img)\n",
    "\n",
    "res = cv.merge(result_planes)\n",
    "res = cv.normalize(res, None, alpha=0, beta=255, norm_type=cv.NORM_MINMAX, dtype=cv.CV_8UC1)\n",
    "alpha = 1.4\n",
    "beta = -185\n",
    "res = cv.addWeighted(res, alpha, img, 0.45, beta)\n",
    "\n",
    "cv.imshow('Final Image', res)\n",
    "status = cv.imwrite('cleaned-gutter'+n+'.jpg', res)\n",
    "print(\"Image written to file-system : \", status)\n",
    "cv.waitKey(0)\n",
    "cv.destroyAllWindows()"
   ]
  },
  {
   "cell_type": "code",
   "execution_count": null,
   "id": "b8e147b9",
   "metadata": {},
   "outputs": [],
   "source": []
  }
 ],
 "metadata": {
  "kernelspec": {
   "display_name": "Python 3 (ipykernel)",
   "language": "python",
   "name": "python3"
  },
  "language_info": {
   "codemirror_mode": {
    "name": "ipython",
    "version": 3
   },
   "file_extension": ".py",
   "mimetype": "text/x-python",
   "name": "python",
   "nbconvert_exporter": "python",
   "pygments_lexer": "ipython3",
   "version": "3.11.3"
  }
 },
 "nbformat": 4,
 "nbformat_minor": 5
}
