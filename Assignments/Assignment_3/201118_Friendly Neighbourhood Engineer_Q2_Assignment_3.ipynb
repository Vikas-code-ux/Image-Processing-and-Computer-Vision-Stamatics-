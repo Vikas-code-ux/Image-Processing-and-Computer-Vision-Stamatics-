{
 "cells": [
  {
   "cell_type": "code",
   "execution_count": 16,
   "id": "6d711fa4",
   "metadata": {},
   "outputs": [],
   "source": [
    "import cv2 as cv\n",
    "import numpy as np"
   ]
  },
  {
   "cell_type": "code",
   "execution_count": 21,
   "id": "0e3889ce",
   "metadata": {},
   "outputs": [
    {
     "name": "stdout",
     "output_type": "stream",
     "text": [
      "4\n",
      "Image written to file-system :  True\n"
     ]
    }
   ],
   "source": [
    "n=str(input())   # Enter number between 1 and 4(both including)\n",
    "image = cv.imread(\"./Assignment_3_images/cctv{}.JPG\".format(n))\n",
    "img = cv.cvtColor(image, cv.COLOR_BGR2GRAY)\n",
    "cv.imshow('Original', img)\n",
    "\n",
    "def ginject(gamma, image_):\n",
    "    g_img = np.zeros((image_.shape), np.uint8)\n",
    "    for x in range(image_.shape[1]):\n",
    "        for y in range(image_.shape[0]):\n",
    "            g_img[y][x]=255*(image_[y][x]/255)**gamma\n",
    "    return g_img\n",
    "\n",
    "g_img = ginject(0.4, img)\n",
    "equalized_img = cv.equalizeHist(img)\n",
    "new_img = cv.addWeighted(equalized_img, 0.45, g_img, 0.65, 0)\n",
    "\n",
    "name = 'Enhanced-cctv' + n + '.jpg'\n",
    "cv.imshow(name, new_img)\n",
    "status = cv.imwrite(name, new_img)\n",
    "print(\"Image written to file-system : \", status)\n",
    "cv.waitKey(0)\n",
    "cv.destroyAllWindows()"
   ]
  },
  {
   "cell_type": "code",
   "execution_count": null,
   "id": "21cbd03f",
   "metadata": {},
   "outputs": [],
   "source": []
  }
 ],
 "metadata": {
  "kernelspec": {
   "display_name": "Python 3 (ipykernel)",
   "language": "python",
   "name": "python3"
  },
  "language_info": {
   "codemirror_mode": {
    "name": "ipython",
    "version": 3
   },
   "file_extension": ".py",
   "mimetype": "text/x-python",
   "name": "python",
   "nbconvert_exporter": "python",
   "pygments_lexer": "ipython3",
   "version": "3.11.3"
  }
 },
 "nbformat": 4,
 "nbformat_minor": 5
}
